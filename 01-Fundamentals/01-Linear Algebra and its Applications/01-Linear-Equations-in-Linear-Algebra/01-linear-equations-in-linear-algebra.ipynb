{
 "cells": [
  {
   "cell_type": "markdown",
   "metadata": {},
   "source": [
    "1. Linear Equations in Linear Algebra\n",
    "\n",
    "Computer science is intricately linked with linear algebra through the growth of parallel processing and large-scale computations.\n",
    "System of linear equations is equivalent to a vector equation and to a matrix equation. This equivalence will reduce problems involving linear combinations of vectors to questions about systems of linear equations."
   ]
  },
  {
   "cell_type": "markdown",
   "metadata": {},
   "source": [
    "1.1 Systems of Linear Equations\n",
    "\n",
    "Matrix Notation\n",
    "The essential information of a linear system can be recorded in a rectangular array called a matrix\n",
    "\n",
    "x1 - 2x2 + x3 = 0\n",
    "2x2 - 8x3 = 8\n",
    "5x1 - 5x3 = 10"
   ]
  },
  {
   "cell_type": "code",
   "execution_count": 3,
   "metadata": {},
   "outputs": [
    {
     "name": "stdout",
     "output_type": "stream",
     "text": [
      "[[1, -2, 1], [0, 2, -8], [5, 0, -5]]\n"
     ]
    }
   ],
   "source": [
    "coefficient_matrix = [\n",
    "    [1, -2, 1],\n",
    "    [0, 2, -8],\n",
    "    [5, 0, -5]\n",
    "]\n",
    "\n",
    "print(coefficient_matrix)"
   ]
  },
  {
   "cell_type": "code",
   "execution_count": 4,
   "metadata": {},
   "outputs": [
    {
     "name": "stdout",
     "output_type": "stream",
     "text": [
      "[[1, -2, 1, 0], [0, 2, -8, 8], [5, 0, -5, 10]]\n"
     ]
    }
   ],
   "source": [
    "augmented_matrix = [\n",
    "    [1, -2, 1, 0],\n",
    "    [0, 2, -8, 8],\n",
    "    [5, 0, -5, 10]\n",
    "]\n",
    "\n",
    "print(augmented_matrix)"
   ]
  },
  {
   "cell_type": "markdown",
   "metadata": {},
   "source": [
    "augmented_matrix has 3 rows and 4 columns and is called a 3 x 4 matrix"
   ]
  },
  {
   "cell_type": "markdown",
   "metadata": {},
   "source": [
    "Solving a Linear System"
   ]
  },
  {
   "cell_type": "markdown",
   "metadata": {},
   "source": []
  }
 ],
 "metadata": {
  "kernelspec": {
   "display_name": "Python 3",
   "language": "python",
   "name": "python3"
  },
  "language_info": {
   "codemirror_mode": {
    "name": "ipython",
    "version": 3
   },
   "file_extension": ".py",
   "mimetype": "text/x-python",
   "name": "python",
   "nbconvert_exporter": "python",
   "pygments_lexer": "ipython3",
   "version": "3.12.2"
  }
 },
 "nbformat": 4,
 "nbformat_minor": 2
}
